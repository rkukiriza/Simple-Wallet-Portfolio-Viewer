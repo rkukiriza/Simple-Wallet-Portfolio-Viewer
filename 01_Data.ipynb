{
 "cells": [
  {
   "cell_type": "markdown",
   "id": "62d1a36e",
   "metadata": {},
   "source": [
    "# A simple Wallet Portfolio Viewer"
   ]
  },
  {
   "cell_type": "code",
   "execution_count": 54,
   "id": "62235924",
   "metadata": {},
   "outputs": [],
   "source": [
    "import os\n",
    "import requests\n",
    "import pandas as  pd\n",
    "import numpy as np \n",
    "from dotenv import load_dotenv"
   ]
  },
  {
   "cell_type": "code",
   "execution_count": null,
   "id": "bdddb54c",
   "metadata": {},
   "outputs": [],
   "source": [
    "# loading the environment variables from the .env file\n",
    "load_dotenv ()\n",
    "DUNE_API_KEY = os.getenv('DUNE_API_KEY')"
   ]
  },
  {
   "cell_type": "code",
   "execution_count": 68,
   "id": "c2b38f97",
   "metadata": {},
   "outputs": [],
   "source": [
    "# Function to get wallet balances from  dune analytics using Dune Sim API\n",
    "\n",
    "WALLET_ADDRESS = '0xd8da6bf26964af9d7eed9e03e53415d37aa96045' # sample wallet address\n",
    "\n",
    "def fetch_sim_balances(address):\n",
    "    url = f\"https://api.sim.dune.com/v1/evm/balances/{address}\"\n",
    "    headers = {'X-Sim-Api-Key': DUNE_API_KEY}\n",
    "    try:\n",
    "        response = requests.get(url, headers=headers)\n",
    "        response.raise_for_status()  # Raise error for bad status\n",
    "        data = response.json()\n",
    "        return data.get('balances', [])  # List of balance dicts\n",
    "    except requests.exceptions.RequestException as e:\n",
    "        print(f\"Error fetching Sim balances: {e}\")\n",
    "        return []\n"
   ]
  },
  {
   "cell_type": "code",
   "execution_count": 69,
   "id": "9a103d50",
   "metadata": {},
   "outputs": [],
   "source": [
    "# Function to fetch prices from CoinGecko for tokens on ethereum\n",
    "def fetch_coingecko_prices(chain, contract_addresses):\n",
    "    if not contract_addresses:\n",
    "        return {}\n",
    "    # CoinGecko platform ID (map chain to platform; simplify to 'ethereum' for now)\n",
    "    platform = 'ethereum' if chain.lower() == 'ethereum' else None\n",
    "    if not platform:\n",
    "        return {}  \n",
    "    url = f\"https://api.coingecko.com/api/v3/simple/token_price/{platform}\"\n",
    "    params = {\n",
    "        'contract_addresses': ','.join(contract_addresses),\n",
    "        'vs_currencies': 'usd'\n",
    "    }\n",
    "    try:\n",
    "        response = requests.get(url, params=params)\n",
    "        response.raise_for_status()\n",
    "        return response.json()  # Dict like {'0x': {'usd': price}}\n",
    "    except requests.exceptions.RequestException as e:\n",
    "        print(f\"Error fetching CoinGecko prices: {e}\")\n",
    "        return {}"
   ]
  },
  {
   "cell_type": "code",
   "execution_count": null,
   "id": "ed5b263a",
   "metadata": {},
   "outputs": [],
   "source": [
    "# Fetching balances from Sim\n",
    "\n",
    "balances = fetch_sim_balances(WALLET_ADDRESS)\n",
    "if not balances:\n",
    "    print(\"No balances found or error occurred.\")\n",
    "else:\n",
    "    # Creating DataFrame\n",
    "    df = pd.DataFrame(balances)\n",
    "\n",
    "    # To handle missing prices: Collect contracts per chain where price_usd is missing or None\n",
    "    missing_prices = {}\n",
    "    for _, row in df.iterrows():\n",
    "        if 'price_usd' not in row or row['price_usd'] is None:\n",
    "            chain = row['chain']\n",
    "            addr = row['address'] if row['address'] != 'native' else None\n",
    "            if addr:\n",
    "                if chain not in missing_prices:\n",
    "                    missing_prices[chain] = []\n",
    "                missing_prices[chain].append(addr.lower())"
   ]
  },
  {
   "cell_type": "code",
   "execution_count": null,
   "id": "9c375407",
   "metadata": {},
   "outputs": [],
   "source": [
    "# Fetching missing prices from CoinGecko\n",
    "\n",
    "for chain, address in missing_prices.items():\n",
    "    prices = fetch_coingecko_prices(chain, address)\n",
    "    for addr, price_data in prices.items():\n",
    "        mask = (df['address'].str.lower() == address) & (df['chain'] == chain)\n",
    "        df.loc[mask, 'price_usd'] = price_data.get('usd')"
   ]
  },
  {
   "cell_type": "code",
   "execution_count": null,
   "id": "e2571c96",
   "metadata": {},
   "outputs": [],
   "source": [
    "# Calculating the value_usd if missing (amount is string, converted to float)\n",
    "\n",
    "df['amount'] = df['amount'].astype(float)\n",
    "df['value_usd'] = np.where(\n",
    "    df['value_usd'].isnull(),\n",
    "    df['amount'] / (10 ** df['decimals']) * df['price_usd'],\n",
    "    df['value_usd']\n",
    "    )"
   ]
  },
  {
   "cell_type": "code",
   "execution_count": null,
   "id": "dbc8d812",
   "metadata": {},
   "outputs": [
    {
     "name": "stdout",
     "output_type": "stream",
     "text": [
      "Total Portfolio Value: $937634737079254.88\n",
      "        symbol     chain     value_usd\n",
      "0       AiMeme  ethereum  8.669824e+14\n",
      "1        ERBAI  ethereum  2.029522e+13\n",
      "2        MONEY  ethereum  1.043810e+13\n",
      "3         USSR  ethereum  8.396683e+12\n",
      "4       ADCBOT  ethereum  6.780834e+12\n",
      "..         ...       ...           ...\n",
      "683        SDR  ethereum  2.127179e-14\n",
      "684  MAGAnolia  ethereum  1.121441e-14\n",
      "685   WALLY2.0  ethereum  1.068039e-14\n",
      "686        COQ  ethereum  4.436810e-15\n",
      "687        NTC  ethereum  3.386478e-23\n",
      "\n",
      "[688 rows x 3 columns]\n",
      "Saved to portfolio.json\n"
     ]
    }
   ],
   "source": [
    "# Filtering out the zero values\n",
    "df = df[df['value_usd'] > 0]\n",
    "\n",
    "# Total portfolio value\n",
    "total_value = np.sum(df['value_usd'])\n",
    "print(f\"Total Portfolio Value: ${total_value:.2f}\")\n",
    "print(df[['symbol', 'chain', 'value_usd']])\n",
    "\n",
    "# Saving to JSON\n",
    "df.to_json('portfolio.json', orient='records', indent=4)\n",
    "print(\"Saved to portfolio.json\")"
   ]
  }
 ],
 "metadata": {
  "kernelspec": {
   "display_name": "PythonS",
   "language": "python",
   "name": "python3"
  },
  "language_info": {
   "codemirror_mode": {
    "name": "ipython",
    "version": 3
   },
   "file_extension": ".py",
   "mimetype": "text/x-python",
   "name": "python",
   "nbconvert_exporter": "python",
   "pygments_lexer": "ipython3",
   "version": "3.13.4"
  }
 },
 "nbformat": 4,
 "nbformat_minor": 5
}
